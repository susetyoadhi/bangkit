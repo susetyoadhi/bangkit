{
  "cells": [
    {
      "cell_type": "markdown",
      "metadata": {
        "id": "XoHP6ykqG2-h"
      },
      "source": [
        "<a href=\"https://colab.research.google.com/github/https-deeplearning-ai/tensorflow-1-public/blob/master/C3/W2/ungraded_labs/C3_W2_Lab_2_sarcasm_classifier.ipynb\" target=\"_parent\"><img src=\"https://colab.research.google.com/assets/colab-badge.svg\" alt=\"Open In Colab\"/></a>"
      ]
    },
    {
      "cell_type": "markdown",
      "metadata": {
        "id": "ZfVtdwryvvP6"
      },
      "source": [
        "# Ungraded Lab: Training a binary classifier with the Sarcasm Dataset\n",
        "\n",
        "In this lab, you will revisit the [News Headlines Dataset for Sarcasm Detection](https://www.kaggle.com/rmisra/news-headlines-dataset-for-sarcasm-detection/home) from last week and proceed to build a train a model on it. The steps will be very similar to the previous lab with IMDB Reviews with just some minor modifications. You can tweak the hyperparameters and see how it affects the results. Let's begin!"
      ]
    },
    {
      "cell_type": "code",
      "execution_count": 1,
      "metadata": {
        "colab": {
          "base_uri": "https://localhost:8080/"
        },
        "id": "mpKRj3RNCvBo",
        "outputId": "3d41e343-dfc9-487c-b706-c408a71f3c55"
      },
      "outputs": [],
      "source": [
        "# !pip install tensorflow_hub\n",
        "# !pip install tensorflow_text"
      ]
    },
    {
      "cell_type": "markdown",
      "metadata": {
        "id": "aWIM6gplHqfx"
      },
      "source": [
        "## Download the dataset\n",
        "\n",
        "You will first download the JSON file, load it into your workspace and put the sentences and labels into lists. "
      ]
    },
    {
      "cell_type": "code",
      "execution_count": 17,
      "metadata": {
        "id": "oZc8ucnWHikd"
      },
      "outputs": [],
      "source": [
        "import pandas as pd\n",
        "from sklearn import preprocessing\n",
        "import csv\n",
        "import tensorflow as tf\n",
        "import pathlib"
      ]
    },
    {
      "cell_type": "code",
      "execution_count": 3,
      "metadata": {
        "id": "BQVuQrZNkPn9"
      },
      "outputs": [],
      "source": [
        "data_train = 'survey.csv'"
      ]
    },
    {
      "cell_type": "code",
      "execution_count": 4,
      "metadata": {
        "id": "1adn0A-oHeuK"
      },
      "outputs": [],
      "source": [
        "sentences_train = []\n",
        "labels_train = []\n",
        "separator = ' '\n",
        "with open (data_train, 'r', encoding='utf8') as csvfile:\n",
        "  sentences = csv.reader(csvfile, delimiter=',')\n",
        "  next(sentences)\n",
        "  for row in sentences:\n",
        "    sentences_train.append(separator.join(row[2:]))\n",
        "    labels_train.append(str(row[1]))\n",
        "\n",
        "\n",
        "le = preprocessing.LabelEncoder()\n",
        "labels_train = le.fit_transform(labels_train)\n",
        "\n",
        "num_classes = max(labels_train) + 1\n",
        "\n",
        "y = tf.keras.utils.to_categorical(labels_train)\n",
        "\n"
      ]
    },
    {
      "cell_type": "code",
      "execution_count": 5,
      "metadata": {
        "id": "S1sD-7v0kYWk"
      },
      "outputs": [],
      "source": [
        "# Split the sentences\n",
        "training_sentences = sentences_train[0:]"
      ]
    },
    {
      "cell_type": "markdown",
      "metadata": {
        "id": "w4FTZEB5Cf-E"
      },
      "source": [
        "<h1> Preprocess Data"
      ]
    },
    {
      "cell_type": "code",
      "execution_count": 6,
      "metadata": {
        "colab": {
          "base_uri": "https://localhost:8080/",
          "height": 536
        },
        "id": "3u8UB0MCkZ5N",
        "outputId": "cdf35843-e68a-4a41-c7e7-35bcf6f1c34e"
      },
      "outputs": [],
      "source": [
        "import numpy as np\n",
        "from tensorflow.keras.preprocessing.text import Tokenizer\n",
        "from tensorflow.keras.preprocessing.sequence import pad_sequences\n",
        "\n",
        "# Parameters for padding and OOV tokens\n",
        "trunc_type='post'\n",
        "padding_type='post'\n",
        "oov_tok = \"<OOV>\"\n",
        "\n",
        "# Initialize the Tokenizer class\n",
        "tokenizer = Tokenizer(num_words=10000, oov_token=oov_tok)\n",
        "\n",
        "# Generate the word index dictionary\n",
        "tokenizer.fit_on_texts(training_sentences)\n",
        "word_index = tokenizer.word_index\n",
        "\n",
        "# Generate and pad the training sequences\n",
        "training_sequences = tokenizer.texts_to_sequences(training_sentences)\n",
        "training_padded = pad_sequences(training_sequences, maxlen=100, padding=padding_type, truncating=trunc_type)\n",
        "\n",
        "\n"
      ]
    },
    {
      "cell_type": "markdown",
      "metadata": {
        "id": "AMF4afx2IdHo"
      },
      "source": [
        "## Build and Compile the Model\n",
        "\n",
        "Next, you will build the model. The architecture is similar to the previous lab but you will use a [GlobalAveragePooling1D](https://www.tensorflow.org/api_docs/python/tf/keras/layers/GlobalAveragePooling1D) layer instead of `Flatten` after the Embedding. This adds the task of averaging over the sequence dimension before connecting to the dense layers. See a short demo of how this works using the snippet below. Notice that it gets the average over 3 arrays (i.e. `(10 + 1 + 1) / 3` and `(2 + 3 + 1) / 3` to arrive at the final output."
      ]
    },
    {
      "cell_type": "markdown",
      "metadata": {
        "id": "evlU_kqOshc4"
      },
      "source": [
        "This added computation reduces the dimensionality of the model as compared to using `Flatten()` and thus, the number of training parameters will also decrease. See the output of `model.summary()` below and see how it compares if you swap out the pooling layer with a simple `Flatten()`."
      ]
    },
    {
      "cell_type": "code",
      "execution_count": 7,
      "metadata": {
        "colab": {
          "base_uri": "https://localhost:8080/",
          "height": 235
        },
        "id": "FufaT4vlkiDE",
        "outputId": "baa52418-d419-424a-ccab-509e8ed8d3a3"
      },
      "outputs": [
        {
          "name": "stdout",
          "output_type": "stream",
          "text": [
            "Model: \"sequential\"\n",
            "_________________________________________________________________\n",
            " Layer (type)                Output Shape              Param #   \n",
            "=================================================================\n",
            " embedding (Embedding)       (None, 100, 16)           160000    \n",
            "                                                                 \n",
            " bidirectional (Bidirectiona  (None, 64)               12544     \n",
            " l)                                                              \n",
            "                                                                 \n",
            " dense (Dense)               (None, 24)                1560      \n",
            "                                                                 \n",
            " dense_1 (Dense)             (None, 10)                250       \n",
            "                                                                 \n",
            "=================================================================\n",
            "Total params: 174,354\n",
            "Trainable params: 174,354\n",
            "Non-trainable params: 0\n",
            "_________________________________________________________________\n"
          ]
        }
      ],
      "source": [
        "# Build the model\n",
        "model = tf.keras.Sequential([\n",
        "    tf.keras.layers.Embedding(10000, 16, input_length=100),\n",
        "    tf.keras.layers.Bidirectional(tf.keras.layers.LSTM(32)),\n",
        "    tf.keras.layers.Dense(24, activation='relu'),\n",
        "    tf.keras.layers.Dense(num_classes, activation='softmax')\n",
        "])\n",
        "\n",
        "# Print the model summary\n",
        "model.summary()"
      ]
    },
    {
      "cell_type": "markdown",
      "metadata": {
        "id": "GMxT5NzKtRgr"
      },
      "source": [
        "You will use the same loss, optimizer, and metrics from the previous lab."
      ]
    },
    {
      "cell_type": "code",
      "execution_count": 8,
      "metadata": {
        "id": "XfDt1hmYkiys"
      },
      "outputs": [],
      "source": [
        "# Compile the model\n",
        "model.compile(loss='categorical_crossentropy',optimizer='adam',metrics=['accuracy'])"
      ]
    },
    {
      "cell_type": "markdown",
      "metadata": {
        "id": "Axtd-WQAJIUK"
      },
      "source": [
        "## Train the Model\n",
        "\n",
        "Now you will feed in the prepared datasets to train the model. If you used the default hyperparameters, you will get around 99% training accuracy and 80% validation accuracy.\n",
        "\n",
        "*Tip: You can set the `verbose` parameter of `model.fit()` to `2` to indicate that you want to print just the results per epoch. Setting it to `1` (default) displays a progress bar per epoch, while `0` silences all displays. It doesn't matter much in this Colab but when working in a production environment, you may want to set this to `2` as recommended in the [documentation](https://keras.io/api/models/model_training_apis/#fit-method).*"
      ]
    },
    {
      "cell_type": "code",
      "execution_count": 9,
      "metadata": {
        "colab": {
          "base_uri": "https://localhost:8080/"
        },
        "id": "2DTKQFf1kkyc",
        "outputId": "f8cc9be2-21b2-4880-80c5-70844639efc5"
      },
      "outputs": [
        {
          "name": "stdout",
          "output_type": "stream",
          "text": [
            "Epoch 1/150\n",
            "1/1 - 6s - loss: 2.3027 - accuracy: 0.0435 - 6s/epoch - 6s/step\n",
            "Epoch 2/150\n",
            "1/1 - 0s - loss: 2.2959 - accuracy: 0.4783 - 49ms/epoch - 49ms/step\n",
            "Epoch 3/150\n",
            "1/1 - 0s - loss: 2.2904 - accuracy: 0.5217 - 65ms/epoch - 65ms/step\n",
            "Epoch 4/150\n",
            "1/1 - 0s - loss: 2.2849 - accuracy: 0.5217 - 67ms/epoch - 67ms/step\n",
            "Epoch 5/150\n",
            "1/1 - 0s - loss: 2.2790 - accuracy: 0.5217 - 61ms/epoch - 61ms/step\n",
            "Epoch 6/150\n",
            "1/1 - 0s - loss: 2.2729 - accuracy: 0.5217 - 64ms/epoch - 64ms/step\n",
            "Epoch 7/150\n",
            "1/1 - 0s - loss: 2.2663 - accuracy: 0.5217 - 47ms/epoch - 47ms/step\n",
            "Epoch 8/150\n",
            "1/1 - 0s - loss: 2.2591 - accuracy: 0.5217 - 49ms/epoch - 49ms/step\n",
            "Epoch 9/150\n",
            "1/1 - 0s - loss: 2.2511 - accuracy: 0.5217 - 45ms/epoch - 45ms/step\n",
            "Epoch 10/150\n",
            "1/1 - 0s - loss: 2.2421 - accuracy: 0.5217 - 55ms/epoch - 55ms/step\n",
            "Epoch 11/150\n",
            "1/1 - 0s - loss: 2.2319 - accuracy: 0.5217 - 59ms/epoch - 59ms/step\n",
            "Epoch 12/150\n",
            "1/1 - 0s - loss: 2.2203 - accuracy: 0.5217 - 50ms/epoch - 50ms/step\n",
            "Epoch 13/150\n",
            "1/1 - 0s - loss: 2.2070 - accuracy: 0.5217 - 47ms/epoch - 47ms/step\n",
            "Epoch 14/150\n",
            "1/1 - 0s - loss: 2.1914 - accuracy: 0.5217 - 51ms/epoch - 51ms/step\n",
            "Epoch 15/150\n",
            "1/1 - 0s - loss: 2.1729 - accuracy: 0.5217 - 58ms/epoch - 58ms/step\n",
            "Epoch 16/150\n",
            "1/1 - 0s - loss: 2.1509 - accuracy: 0.5217 - 55ms/epoch - 55ms/step\n",
            "Epoch 17/150\n",
            "1/1 - 0s - loss: 2.1247 - accuracy: 0.5217 - 57ms/epoch - 57ms/step\n",
            "Epoch 18/150\n",
            "1/1 - 0s - loss: 2.0935 - accuracy: 0.5217 - 59ms/epoch - 59ms/step\n",
            "Epoch 19/150\n",
            "1/1 - 0s - loss: 2.0572 - accuracy: 0.5217 - 59ms/epoch - 59ms/step\n",
            "Epoch 20/150\n",
            "1/1 - 0s - loss: 2.0159 - accuracy: 0.5217 - 52ms/epoch - 52ms/step\n",
            "Epoch 21/150\n",
            "1/1 - 0s - loss: 1.9713 - accuracy: 0.5217 - 60ms/epoch - 60ms/step\n",
            "Epoch 22/150\n",
            "1/1 - 0s - loss: 1.9247 - accuracy: 0.5217 - 59ms/epoch - 59ms/step\n",
            "Epoch 23/150\n",
            "1/1 - 0s - loss: 1.8782 - accuracy: 0.5217 - 60ms/epoch - 60ms/step\n",
            "Epoch 24/150\n",
            "1/1 - 0s - loss: 1.8353 - accuracy: 0.5217 - 53ms/epoch - 53ms/step\n",
            "Epoch 25/150\n",
            "1/1 - 0s - loss: 1.7988 - accuracy: 0.5217 - 47ms/epoch - 47ms/step\n",
            "Epoch 26/150\n",
            "1/1 - 0s - loss: 1.7729 - accuracy: 0.5217 - 45ms/epoch - 45ms/step\n",
            "Epoch 27/150\n",
            "1/1 - 0s - loss: 1.7542 - accuracy: 0.5217 - 44ms/epoch - 44ms/step\n",
            "Epoch 28/150\n",
            "1/1 - 0s - loss: 1.7412 - accuracy: 0.5217 - 43ms/epoch - 43ms/step\n",
            "Epoch 29/150\n",
            "1/1 - 0s - loss: 1.7237 - accuracy: 0.5217 - 43ms/epoch - 43ms/step\n",
            "Epoch 30/150\n",
            "1/1 - 0s - loss: 1.7007 - accuracy: 0.5217 - 48ms/epoch - 48ms/step\n",
            "Epoch 31/150\n",
            "1/1 - 0s - loss: 1.6741 - accuracy: 0.5217 - 48ms/epoch - 48ms/step\n",
            "Epoch 32/150\n",
            "1/1 - 0s - loss: 1.6508 - accuracy: 0.5217 - 47ms/epoch - 47ms/step\n",
            "Epoch 33/150\n",
            "1/1 - 0s - loss: 1.6354 - accuracy: 0.5217 - 48ms/epoch - 48ms/step\n",
            "Epoch 34/150\n",
            "1/1 - 0s - loss: 1.6227 - accuracy: 0.5217 - 44ms/epoch - 44ms/step\n",
            "Epoch 35/150\n",
            "1/1 - 0s - loss: 1.6092 - accuracy: 0.5217 - 50ms/epoch - 50ms/step\n",
            "Epoch 36/150\n",
            "1/1 - 0s - loss: 1.5960 - accuracy: 0.5217 - 44ms/epoch - 44ms/step\n",
            "Epoch 37/150\n",
            "1/1 - 0s - loss: 1.5823 - accuracy: 0.5217 - 50ms/epoch - 50ms/step\n",
            "Epoch 38/150\n",
            "1/1 - 0s - loss: 1.5676 - accuracy: 0.5217 - 44ms/epoch - 44ms/step\n",
            "Epoch 39/150\n",
            "1/1 - 0s - loss: 1.5523 - accuracy: 0.5217 - 44ms/epoch - 44ms/step\n",
            "Epoch 40/150\n",
            "1/1 - 0s - loss: 1.5358 - accuracy: 0.5217 - 44ms/epoch - 44ms/step\n",
            "Epoch 41/150\n",
            "1/1 - 0s - loss: 1.5186 - accuracy: 0.5217 - 52ms/epoch - 52ms/step\n",
            "Epoch 42/150\n",
            "1/1 - 0s - loss: 1.5011 - accuracy: 0.5217 - 51ms/epoch - 51ms/step\n",
            "Epoch 43/150\n",
            "1/1 - 0s - loss: 1.4832 - accuracy: 0.5217 - 45ms/epoch - 45ms/step\n",
            "Epoch 44/150\n",
            "1/1 - 0s - loss: 1.4648 - accuracy: 0.5217 - 66ms/epoch - 66ms/step\n",
            "Epoch 45/150\n",
            "1/1 - 0s - loss: 1.4455 - accuracy: 0.5217 - 50ms/epoch - 50ms/step\n",
            "Epoch 46/150\n",
            "1/1 - 0s - loss: 1.4251 - accuracy: 0.5217 - 49ms/epoch - 49ms/step\n",
            "Epoch 47/150\n",
            "1/1 - 0s - loss: 1.4036 - accuracy: 0.5217 - 49ms/epoch - 49ms/step\n",
            "Epoch 48/150\n",
            "1/1 - 0s - loss: 1.3809 - accuracy: 0.5217 - 44ms/epoch - 44ms/step\n",
            "Epoch 49/150\n",
            "1/1 - 0s - loss: 1.3568 - accuracy: 0.5217 - 45ms/epoch - 45ms/step\n",
            "Epoch 50/150\n",
            "1/1 - 0s - loss: 1.3316 - accuracy: 0.5217 - 47ms/epoch - 47ms/step\n",
            "Epoch 51/150\n",
            "1/1 - 0s - loss: 1.3058 - accuracy: 0.5652 - 41ms/epoch - 41ms/step\n",
            "Epoch 52/150\n",
            "1/1 - 0s - loss: 1.2798 - accuracy: 0.5652 - 47ms/epoch - 47ms/step\n",
            "Epoch 53/150\n",
            "1/1 - 0s - loss: 1.2534 - accuracy: 0.5652 - 59ms/epoch - 59ms/step\n",
            "Epoch 54/150\n",
            "1/1 - 0s - loss: 1.2269 - accuracy: 0.6087 - 50ms/epoch - 50ms/step\n",
            "Epoch 55/150\n",
            "1/1 - 0s - loss: 1.2006 - accuracy: 0.6087 - 55ms/epoch - 55ms/step\n",
            "Epoch 56/150\n",
            "1/1 - 0s - loss: 1.1753 - accuracy: 0.6087 - 44ms/epoch - 44ms/step\n",
            "Epoch 57/150\n",
            "1/1 - 0s - loss: 1.1507 - accuracy: 0.6087 - 47ms/epoch - 47ms/step\n",
            "Epoch 58/150\n",
            "1/1 - 0s - loss: 1.1273 - accuracy: 0.6087 - 49ms/epoch - 49ms/step\n",
            "Epoch 59/150\n",
            "1/1 - 0s - loss: 1.1048 - accuracy: 0.6087 - 50ms/epoch - 50ms/step\n",
            "Epoch 60/150\n",
            "1/1 - 0s - loss: 1.0845 - accuracy: 0.6087 - 49ms/epoch - 49ms/step\n",
            "Epoch 61/150\n",
            "1/1 - 0s - loss: 1.0652 - accuracy: 0.6087 - 45ms/epoch - 45ms/step\n",
            "Epoch 62/150\n",
            "1/1 - 0s - loss: 1.0459 - accuracy: 0.6087 - 51ms/epoch - 51ms/step\n",
            "Epoch 63/150\n",
            "1/1 - 0s - loss: 1.0282 - accuracy: 0.6087 - 44ms/epoch - 44ms/step\n",
            "Epoch 64/150\n",
            "1/1 - 0s - loss: 1.0098 - accuracy: 0.6087 - 46ms/epoch - 46ms/step\n",
            "Epoch 65/150\n",
            "1/1 - 0s - loss: 0.9936 - accuracy: 0.6522 - 45ms/epoch - 45ms/step\n",
            "Epoch 66/150\n",
            "1/1 - 0s - loss: 0.9755 - accuracy: 0.6087 - 50ms/epoch - 50ms/step\n",
            "Epoch 67/150\n",
            "1/1 - 0s - loss: 0.9592 - accuracy: 0.6087 - 44ms/epoch - 44ms/step\n",
            "Epoch 68/150\n",
            "1/1 - 0s - loss: 0.9569 - accuracy: 0.6522 - 47ms/epoch - 47ms/step\n",
            "Epoch 69/150\n",
            "1/1 - 0s - loss: 0.9439 - accuracy: 0.6522 - 41ms/epoch - 41ms/step\n",
            "Epoch 70/150\n",
            "1/1 - 0s - loss: 0.9313 - accuracy: 0.6522 - 52ms/epoch - 52ms/step\n",
            "Epoch 71/150\n",
            "1/1 - 0s - loss: 0.9139 - accuracy: 0.6957 - 59ms/epoch - 59ms/step\n",
            "Epoch 72/150\n",
            "1/1 - 0s - loss: 0.9147 - accuracy: 0.7391 - 51ms/epoch - 51ms/step\n",
            "Epoch 73/150\n",
            "1/1 - 0s - loss: 0.8967 - accuracy: 0.6957 - 44ms/epoch - 44ms/step\n",
            "Epoch 74/150\n",
            "1/1 - 0s - loss: 0.8952 - accuracy: 0.6957 - 44ms/epoch - 44ms/step\n",
            "Epoch 75/150\n",
            "1/1 - 0s - loss: 0.8787 - accuracy: 0.7391 - 50ms/epoch - 50ms/step\n",
            "Epoch 76/150\n",
            "1/1 - 0s - loss: 0.8682 - accuracy: 0.7826 - 48ms/epoch - 48ms/step\n",
            "Epoch 77/150\n",
            "1/1 - 0s - loss: 0.8523 - accuracy: 0.7826 - 46ms/epoch - 46ms/step\n",
            "Epoch 78/150\n",
            "1/1 - 0s - loss: 0.8400 - accuracy: 0.7826 - 84ms/epoch - 84ms/step\n",
            "Epoch 79/150\n",
            "1/1 - 0s - loss: 0.8284 - accuracy: 0.7826 - 46ms/epoch - 46ms/step\n",
            "Epoch 80/150\n",
            "1/1 - 0s - loss: 0.8178 - accuracy: 0.7826 - 62ms/epoch - 62ms/step\n",
            "Epoch 81/150\n",
            "1/1 - 0s - loss: 0.8059 - accuracy: 0.7826 - 49ms/epoch - 49ms/step\n",
            "Epoch 82/150\n",
            "1/1 - 0s - loss: 0.7945 - accuracy: 0.7826 - 47ms/epoch - 47ms/step\n",
            "Epoch 83/150\n",
            "1/1 - 0s - loss: 0.7807 - accuracy: 0.7826 - 56ms/epoch - 56ms/step\n",
            "Epoch 84/150\n",
            "1/1 - 0s - loss: 0.7699 - accuracy: 0.7826 - 70ms/epoch - 70ms/step\n",
            "Epoch 85/150\n",
            "1/1 - 0s - loss: 0.7568 - accuracy: 0.7826 - 49ms/epoch - 49ms/step\n",
            "Epoch 86/150\n",
            "1/1 - 0s - loss: 0.7446 - accuracy: 0.7826 - 44ms/epoch - 44ms/step\n",
            "Epoch 87/150\n",
            "1/1 - 0s - loss: 0.7353 - accuracy: 0.7826 - 43ms/epoch - 43ms/step\n",
            "Epoch 88/150\n",
            "1/1 - 0s - loss: 0.7437 - accuracy: 0.7826 - 56ms/epoch - 56ms/step\n",
            "Epoch 89/150\n",
            "1/1 - 0s - loss: 0.7063 - accuracy: 0.7826 - 48ms/epoch - 48ms/step\n",
            "Epoch 90/150\n",
            "1/1 - 0s - loss: 0.7832 - accuracy: 0.6087 - 54ms/epoch - 54ms/step\n",
            "Epoch 91/150\n",
            "1/1 - 0s - loss: 0.7459 - accuracy: 0.7826 - 50ms/epoch - 50ms/step\n",
            "Epoch 92/150\n",
            "1/1 - 0s - loss: 0.7989 - accuracy: 0.6957 - 44ms/epoch - 44ms/step\n",
            "Epoch 93/150\n",
            "1/1 - 0s - loss: 0.7992 - accuracy: 0.6957 - 49ms/epoch - 49ms/step\n",
            "Epoch 94/150\n",
            "1/1 - 0s - loss: 0.7717 - accuracy: 0.7391 - 50ms/epoch - 50ms/step\n",
            "Epoch 95/150\n",
            "1/1 - 0s - loss: 0.7341 - accuracy: 0.7391 - 50ms/epoch - 50ms/step\n",
            "Epoch 96/150\n",
            "1/1 - 0s - loss: 0.7056 - accuracy: 0.7391 - 50ms/epoch - 50ms/step\n",
            "Epoch 97/150\n",
            "1/1 - 0s - loss: 0.6961 - accuracy: 0.7826 - 49ms/epoch - 49ms/step\n",
            "Epoch 98/150\n",
            "1/1 - 0s - loss: 0.6880 - accuracy: 0.7826 - 59ms/epoch - 59ms/step\n",
            "Epoch 99/150\n",
            "1/1 - 0s - loss: 0.6752 - accuracy: 0.7826 - 46ms/epoch - 46ms/step\n",
            "Epoch 100/150\n",
            "1/1 - 0s - loss: 0.6586 - accuracy: 0.7826 - 57ms/epoch - 57ms/step\n",
            "Epoch 101/150\n",
            "1/1 - 0s - loss: 0.6458 - accuracy: 0.7391 - 60ms/epoch - 60ms/step\n",
            "Epoch 102/150\n",
            "1/1 - 0s - loss: 0.6381 - accuracy: 0.7391 - 49ms/epoch - 49ms/step\n",
            "Epoch 103/150\n",
            "1/1 - 0s - loss: 0.6309 - accuracy: 0.7391 - 51ms/epoch - 51ms/step\n",
            "Epoch 104/150\n",
            "1/1 - 0s - loss: 0.6112 - accuracy: 0.7391 - 49ms/epoch - 49ms/step\n",
            "Epoch 105/150\n",
            "1/1 - 0s - loss: 0.5882 - accuracy: 0.8261 - 50ms/epoch - 50ms/step\n",
            "Epoch 106/150\n",
            "1/1 - 0s - loss: 0.5811 - accuracy: 0.8261 - 49ms/epoch - 49ms/step\n",
            "Epoch 107/150\n",
            "1/1 - 0s - loss: 0.5809 - accuracy: 0.8261 - 58ms/epoch - 58ms/step\n",
            "Epoch 108/150\n",
            "1/1 - 0s - loss: 0.5772 - accuracy: 0.8261 - 43ms/epoch - 43ms/step\n",
            "Epoch 109/150\n",
            "1/1 - 0s - loss: 0.5678 - accuracy: 0.8261 - 47ms/epoch - 47ms/step\n",
            "Epoch 110/150\n",
            "1/1 - 0s - loss: 0.5541 - accuracy: 0.8261 - 50ms/epoch - 50ms/step\n",
            "Epoch 111/150\n",
            "1/1 - 0s - loss: 0.5398 - accuracy: 0.8261 - 50ms/epoch - 50ms/step\n",
            "Epoch 112/150\n",
            "1/1 - 0s - loss: 0.5278 - accuracy: 0.8261 - 62ms/epoch - 62ms/step\n",
            "Epoch 113/150\n",
            "1/1 - 0s - loss: 0.5197 - accuracy: 0.8261 - 53ms/epoch - 53ms/step\n",
            "Epoch 114/150\n",
            "1/1 - 0s - loss: 0.5123 - accuracy: 0.8261 - 51ms/epoch - 51ms/step\n",
            "Epoch 115/150\n",
            "1/1 - 0s - loss: 0.5044 - accuracy: 0.8696 - 56ms/epoch - 56ms/step\n",
            "Epoch 116/150\n",
            "1/1 - 0s - loss: 0.4960 - accuracy: 0.8696 - 44ms/epoch - 44ms/step\n",
            "Epoch 117/150\n",
            "1/1 - 0s - loss: 0.4879 - accuracy: 0.8696 - 49ms/epoch - 49ms/step\n",
            "Epoch 118/150\n",
            "1/1 - 0s - loss: 0.4787 - accuracy: 0.8696 - 48ms/epoch - 48ms/step\n",
            "Epoch 119/150\n",
            "1/1 - 0s - loss: 0.4679 - accuracy: 0.8696 - 42ms/epoch - 42ms/step\n",
            "Epoch 120/150\n",
            "1/1 - 0s - loss: 0.4577 - accuracy: 0.8696 - 50ms/epoch - 50ms/step\n",
            "Epoch 121/150\n",
            "1/1 - 0s - loss: 0.4494 - accuracy: 0.8696 - 46ms/epoch - 46ms/step\n",
            "Epoch 122/150\n",
            "1/1 - 0s - loss: 0.4434 - accuracy: 0.8696 - 48ms/epoch - 48ms/step\n",
            "Epoch 123/150\n",
            "1/1 - 0s - loss: 0.4375 - accuracy: 0.8261 - 46ms/epoch - 46ms/step\n",
            "Epoch 124/150\n",
            "1/1 - 0s - loss: 0.4309 - accuracy: 0.8696 - 48ms/epoch - 48ms/step\n",
            "Epoch 125/150\n",
            "1/1 - 0s - loss: 0.4233 - accuracy: 0.8696 - 55ms/epoch - 55ms/step\n",
            "Epoch 126/150\n",
            "1/1 - 0s - loss: 0.4152 - accuracy: 0.9130 - 51ms/epoch - 51ms/step\n",
            "Epoch 127/150\n",
            "1/1 - 0s - loss: 0.4071 - accuracy: 0.9565 - 50ms/epoch - 50ms/step\n",
            "Epoch 128/150\n",
            "1/1 - 0s - loss: 0.3991 - accuracy: 0.9565 - 47ms/epoch - 47ms/step\n",
            "Epoch 129/150\n",
            "1/1 - 0s - loss: 0.3915 - accuracy: 0.9565 - 57ms/epoch - 57ms/step\n",
            "Epoch 130/150\n",
            "1/1 - 0s - loss: 0.3845 - accuracy: 0.9565 - 46ms/epoch - 46ms/step\n",
            "Epoch 131/150\n",
            "1/1 - 0s - loss: 0.3780 - accuracy: 0.9565 - 58ms/epoch - 58ms/step\n",
            "Epoch 132/150\n",
            "1/1 - 0s - loss: 0.3711 - accuracy: 0.9565 - 54ms/epoch - 54ms/step\n",
            "Epoch 133/150\n",
            "1/1 - 0s - loss: 0.3646 - accuracy: 0.9565 - 47ms/epoch - 47ms/step\n",
            "Epoch 134/150\n",
            "1/1 - 0s - loss: 0.3584 - accuracy: 0.9565 - 56ms/epoch - 56ms/step\n",
            "Epoch 135/150\n",
            "1/1 - 0s - loss: 0.3521 - accuracy: 0.9565 - 54ms/epoch - 54ms/step\n",
            "Epoch 136/150\n",
            "1/1 - 0s - loss: 0.3454 - accuracy: 0.9565 - 55ms/epoch - 55ms/step\n",
            "Epoch 137/150\n",
            "1/1 - 0s - loss: 0.3387 - accuracy: 0.9565 - 59ms/epoch - 59ms/step\n",
            "Epoch 138/150\n",
            "1/1 - 0s - loss: 0.3320 - accuracy: 0.9565 - 49ms/epoch - 49ms/step\n",
            "Epoch 139/150\n",
            "1/1 - 0s - loss: 0.3256 - accuracy: 0.9565 - 53ms/epoch - 53ms/step\n",
            "Epoch 140/150\n",
            "1/1 - 0s - loss: 0.3196 - accuracy: 0.9565 - 43ms/epoch - 43ms/step\n",
            "Epoch 141/150\n",
            "1/1 - 0s - loss: 0.3134 - accuracy: 0.9565 - 53ms/epoch - 53ms/step\n",
            "Epoch 142/150\n",
            "1/1 - 0s - loss: 0.3070 - accuracy: 0.9565 - 47ms/epoch - 47ms/step\n",
            "Epoch 143/150\n",
            "1/1 - 0s - loss: 0.3010 - accuracy: 0.9565 - 58ms/epoch - 58ms/step\n",
            "Epoch 144/150\n",
            "1/1 - 0s - loss: 0.2955 - accuracy: 0.9565 - 66ms/epoch - 66ms/step\n",
            "Epoch 145/150\n",
            "1/1 - 0s - loss: 0.2897 - accuracy: 0.9565 - 54ms/epoch - 54ms/step\n",
            "Epoch 146/150\n",
            "1/1 - 0s - loss: 0.2836 - accuracy: 0.9565 - 50ms/epoch - 50ms/step\n",
            "Epoch 147/150\n",
            "1/1 - 0s - loss: 0.2783 - accuracy: 0.9565 - 44ms/epoch - 44ms/step\n",
            "Epoch 148/150\n",
            "1/1 - 0s - loss: 0.2726 - accuracy: 0.9565 - 45ms/epoch - 45ms/step\n",
            "Epoch 149/150\n",
            "1/1 - 0s - loss: 0.2670 - accuracy: 0.9565 - 46ms/epoch - 46ms/step\n",
            "Epoch 150/150\n",
            "1/1 - 0s - loss: 0.2618 - accuracy: 0.9565 - 50ms/epoch - 50ms/step\n"
          ]
        }
      ],
      "source": [
        "num_epochs = 150\n",
        "\n",
        "# Train the model\n",
        "history = model.fit(training_padded, y, epochs=num_epochs, verbose=2)"
      ]
    },
    {
      "cell_type": "code",
      "execution_count": 10,
      "metadata": {},
      "outputs": [],
      "source": [
        "def predict(input):\n",
        "    test_sequences = tokenizer.texts_to_sequences(input)\n",
        "    data_padded = pad_sequences(test_sequences, maxlen=100, padding=padding_type, truncating=trunc_type)\n",
        "    result = []\n",
        "    result = model.predict(data_padded)\n",
        "    return le.inverse_transform([np.argmax(pred) for pred in result])"
      ]
    },
    {
      "cell_type": "code",
      "execution_count": 11,
      "metadata": {},
      "outputs": [
        {
          "name": "stdout",
          "output_type": "stream",
          "text": [
            "1/1 [==============================] - 1s 1s/step\n",
            "Akuntansi\n",
            "Teknik Informatika\n",
            "Teknik Informatika\n",
            "Teknik Sipil\n",
            "Teknik Informatika\n",
            "Akuntansi\n",
            "Matematika\n",
            "Matematika\n",
            "Matematika\n",
            "Matematika\n",
            "Matematika\n",
            "Matematika\n",
            "Matematika\n",
            "Pendidikan Matematika\n",
            "Matematika\n",
            "Hukum Tata Negara\n",
            "kedokteran\n",
            "Perpustakaan dan Ilmu Informasi \n",
            "Jurusan Hukum Tata Negara\n",
            "Matematika\n",
            "Matematika\n",
            "Matematika\n",
            "Matematika\n"
          ]
        }
      ],
      "source": [
        "for result in predict(sentences_train):\n",
        "    print(result)"
      ]
    },
    {
      "cell_type": "markdown",
      "metadata": {},
      "source": [
        "<h1> for converting to TFlite"
      ]
    },
    {
      "cell_type": "code",
      "execution_count": 16,
      "metadata": {},
      "outputs": [
        {
          "name": "stderr",
          "output_type": "stream",
          "text": [
            "WARNING:absl:Found untraced functions such as lstm_cell_1_layer_call_fn, lstm_cell_1_layer_call_and_return_conditional_losses, lstm_cell_2_layer_call_fn, lstm_cell_2_layer_call_and_return_conditional_losses while saving (showing 4 of 4). These functions will not be directly callable after loading.\n"
          ]
        },
        {
          "name": "stdout",
          "output_type": "stream",
          "text": [
            "INFO:tensorflow:Assets written to: saved_model/1\\assets\n"
          ]
        },
        {
          "name": "stderr",
          "output_type": "stream",
          "text": [
            "INFO:tensorflow:Assets written to: saved_model/1\\assets\n"
          ]
        }
      ],
      "source": [
        "export_dir = 'saved_model/1'\n",
        "\n",
        "tf.saved_model.save(model, export_dir)"
      ]
    },
    {
      "cell_type": "code",
      "execution_count": 22,
      "metadata": {},
      "outputs": [],
      "source": [
        "converter = tf.lite.TFLiteConverter.from_saved_model(export_dir)\n",
        "\n",
        "# Set the optimzations\n",
        "converter.optimizations = [tf.lite.Optimize.DEFAULT]\n",
        "\n",
        "converter.target_spec.supported_ops = [\n",
        "  tf.lite.OpsSet.TFLITE_BUILTINS, # enable TensorFlow Lite ops.\n",
        "  tf.lite.OpsSet.SELECT_TF_OPS # enable TensorFlow ops.\n",
        "]\n",
        "tflite_model = converter.convert()\n"
      ]
    },
    {
      "cell_type": "code",
      "execution_count": 23,
      "metadata": {},
      "outputs": [
        {
          "data": {
            "text/plain": [
              "194256"
            ]
          },
          "execution_count": 23,
          "metadata": {},
          "output_type": "execute_result"
        }
      ],
      "source": [
        "tflite_model_file = pathlib.Path('./model.tflite')\n",
        "tflite_model_file.write_bytes(tflite_model)"
      ]
    }
  ],
  "metadata": {
    "accelerator": "GPU",
    "colab": {
      "collapsed_sections": [],
      "name": "capstone.ipynb",
      "provenance": []
    },
    "interpreter": {
      "hash": "ad2bdc8ecc057115af97d19610ffacc2b4e99fae6737bb82f5d7fb13d2f2c186"
    },
    "kernelspec": {
      "display_name": "Python 3.8.8 ('base')",
      "language": "python",
      "name": "python3"
    },
    "language_info": {
      "codemirror_mode": {
        "name": "ipython",
        "version": 3
      },
      "file_extension": ".py",
      "mimetype": "text/x-python",
      "name": "python",
      "nbconvert_exporter": "python",
      "pygments_lexer": "ipython3",
      "version": "3.8.8"
    }
  },
  "nbformat": 4,
  "nbformat_minor": 0
}
